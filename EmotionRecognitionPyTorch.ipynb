{
 "cells": [
  {
   "cell_type": "markdown",
   "id": "37a9dd41",
   "metadata": {},
   "source": [
    "# Emotion Recognition with CNNs\n",
    "Andrea Mansi (137857)\n",
    "\n",
    "Christian Cagnoni (137690)"
   ]
  },
  {
   "cell_type": "code",
   "execution_count": 1,
   "id": "60ef9000",
   "metadata": {},
   "outputs": [],
   "source": [
    "import os\n",
    "import numpy as np\n",
    "import pandas as pd\n",
    "import torch\n",
    "import torchvision\n",
    "from torch.utils.data import TensorDataset\n",
    "from torch.utils.data import DataLoader, RandomSampler, SequentialSampler\n",
    "import torch.nn as nn\n",
    "import torch.nn.functional as F\n",
    "import torch.optim as optim\n",
    "import matplotlib.pyplot as plot\n",
    "from PIL import Image\n",
    "import torchvision.transforms as T\n",
    "import time"
   ]
  },
  {
   "cell_type": "markdown",
   "id": "1be59ab4",
   "metadata": {},
   "source": [
    "## 1. Data import and preprocessing\n",
    "\n",
    "The input dataset is from FER2013 competition.\n",
    "\n",
    "Dataset URL: https://www.kaggle.com/ashishpatel26/facial-expression-recognitionferchallenge"
   ]
  },
  {
   "cell_type": "code",
   "execution_count": 2,
   "id": "67a5fceb",
   "metadata": {},
   "outputs": [
    {
     "name": "stdout",
     "output_type": "stream",
     "text": [
      "Shape:(35887, 3)\n",
      "   emotion                                             pixels     Usage\n",
      "0        0  70 80 82 72 58 58 60 63 54 58 60 48 89 115 121...  Training\n",
      "1        0  151 150 147 155 148 133 111 140 170 174 182 15...  Training\n",
      "2        2  231 212 156 164 174 138 161 173 182 200 106 38...  Training\n",
      "3        4  24 32 36 30 32 23 19 20 30 41 21 22 32 34 21 1...  Training\n"
     ]
    }
   ],
   "source": [
    "# Data reading from csv file\n",
    "# Insert your path here:\n",
    "data_path = \"C:/Users/Mansitos_Picci/Desktop/fer2013.csv\"\n",
    "dataframe = pd.read_csv(data_path)\n",
    "\n",
    "# Printing dataset main infos\n",
    "print(\"Shape:\" + str(dataframe.shape))\n",
    "print(dataframe.head(4))"
   ]
  },
  {
   "cell_type": "markdown",
   "id": "c6eddf37",
   "metadata": {},
   "source": [
    "Counting and plotting all the emotions. Dataset is not \"balanced\" some emotions are less present."
   ]
  },
  {
   "cell_type": "code",
   "execution_count": 3,
   "id": "5b92d5ee",
   "metadata": {},
   "outputs": [
    {
     "data": {
      "image/png": "[encoded data removed]",
      "text/plain": [
       "<Figure size 720x288 with 1 Axes>"
      ]
     },
     "metadata": {
      "needs_background": "light"
     },
     "output_type": "display_data"
    }
   ],
   "source": [
    "emotions_labels_to_text = {0:'Anger >:(', 1:'Disgust :S', 2:'Fear :\"(', 3:'Happiness :D', 4: 'Sadness :(', 5: 'Surprise :O', 6: 'Neutral :|'}\n",
    "\n",
    "emotions_counts = dataframe['emotion'].value_counts(sort=False).reset_index()\n",
    "emotions_counts.columns = ['emotion', 'number']\n",
    "emotions_counts['emotion'] = emotions_counts['emotion'].map(emotions_labels_to_text)\n",
    "\n",
    "plot.figure(figsize=(10, 4))\n",
    "plot.bar(emotions_counts.emotion, emotions_counts.number)\n",
    "plot.title('Emotions distribution')\n",
    "plot.xlabel('\\nEmotions', fontsize=12)\n",
    "plot.ylabel('Number\\n', fontsize=12)\n",
    "plot.show()"
   ]
  },
  {
   "cell_type": "markdown",
   "id": "c298a845",
   "metadata": {},
   "source": [
    "Processing the input data and preparing test and validation sets. Public test will be used, private test will be ignored."
   ]
  },
  {
   "cell_type": "code",
   "execution_count": 4,
   "id": "732daf85",
   "metadata": {},
   "outputs": [],
   "source": [
    "# Taking Training data (dataset is already subdivided into training and test (private and public))\n",
    "data_train = dataframe[dataframe.Usage == \"Training\"]\n",
    "data_test  = dataframe[dataframe.Usage == \"PublicTest\"]\n",
    "\n",
    "# Processing the pixel column: converting the list (in which each pixel value is separated by a whitespace) into a list of ints\n",
    "imgs_train = pd.DataFrame(data_train.pixels.str.split(\" \").tolist())\n",
    "imgs_test  = pd.DataFrame(data_test.pixels.str.split(\" \").tolist())\n",
    "\n",
    "# Float conversion\n",
    "imgs_train = imgs_train.values.astype(float)\n",
    "imgs_test = imgs_test.values.astype(float)\n",
    "\n",
    "# reshaping to match model input\n",
    "x_train = imgs_train.reshape(-1, 48 , 48 ,1)\n",
    "x_test = imgs_test.reshape(-1, 48, 48, 1)\n",
    "\n",
    "# taking label train column and converting into monodimensional array\n",
    "y_train = data_train[\"emotion\"].values\n",
    "y_test = data_test[\"emotion\"].values"
   ]
  },
  {
   "cell_type": "markdown",
   "id": "2a59b184",
   "metadata": {},
   "source": [
    "Dataset augmentation phase. This phase enlarge the dataset by applying transformations to images. It can be skipped in order to use the raw input dataset. Enlarged dataset will require more time for training phase."
   ]
  },
  {
   "cell_type": "code",
   "execution_count": 5,
   "id": "9ec22972",
   "metadata": {},
   "outputs": [],
   "source": [
    "# set to TRUE if you want the test dataset to be enlarged by applying transformations to images\n",
    "enanche_dataset_flag = True"
   ]
  },
  {
   "cell_type": "code",
   "execution_count": 6,
   "id": "5af74244",
   "metadata": {},
   "outputs": [
    {
     "name": "stdout",
     "output_type": "stream",
     "text": [
      "Executing dataset augmentation... phase: 1\n",
      "Number of starting images: 28709\n",
      "Showing a random starting image:\n"
     ]
    },
    {
     "data": {
      "image/png": "[encoded data removed]",
      "text/plain": [
       "<Figure size 432x288 with 1 Axes>"
      ]
     },
     "metadata": {
      "needs_background": "light"
     },
     "output_type": "display_data"
    }
   ],
   "source": [
    "if(enanche_dataset_flag):\n",
    "    print(\"Executing dataset augmentation... phase: 1\")\n",
    "    img=[]\n",
    "\n",
    "    def arrayToImage(array):\n",
    "        new_im = Image.new(\"L\", (48,48))\n",
    "\n",
    "        x_offset = 0\n",
    "        for im in array:\n",
    "          new_im.paste(im, (x_offset,0))\n",
    "          x_offset += im.size[0]\n",
    "\n",
    "        img.append((new_im.rotate(-90)).transpose(Image.FLIP_LEFT_RIGHT))\n",
    "\n",
    "    for i in range(len(x_train)):\n",
    "        tmp_img=[]\n",
    "        for j in range(len(x_train[i])):\n",
    "            tmp_img.append(Image.fromarray(x_train[i][j]))\n",
    "        arrayToImage(tmp_img)\n",
    "\n",
    "    \n",
    "    print(\"Number of starting images: \" + str(len(img)))\n",
    "    print(\"Showing a random starting image:\")\n",
    "    plot.imshow(img[0],cmap='gray')\n",
    "else:\n",
    "    print(\"Dataset augmentation skipped...\")"
   ]
  },
  {
   "cell_type": "code",
   "execution_count": 7,
   "id": "93720c22",
   "metadata": {},
   "outputs": [
    {
     "name": "stdout",
     "output_type": "stream",
     "text": [
      "Executing dataset augmentation... phase: 2\n"
     ]
    }
   ],
   "source": [
    "if(enanche_dataset_flag):\n",
    "    print(\"Executing dataset augmentation... phase: 2\")\n",
    "    torch.manual_seed(42)\n",
    "\n",
    "    transformedImages=[]\n",
    "    transformedLabels=[]\n",
    "\n",
    "    perspective_transfromer = T.RandomPerspective(distortion_scale=0.5,p=0.5)\n",
    "    rotater = T.RandomRotation(degrees=(-90, 90))\n",
    "    \n",
    "    for i in range(len(img)):\n",
    "        transformedImages.append(perspective_transfromer(img[i]))\n",
    "        transformedLabels.append(y_train[i])\n",
    "    for i in range(len(img)):\n",
    "        transformedImages.append(rotater(img[i]))\n",
    "        transformedLabels.append(y_train[i])"
   ]
  },
  {
   "cell_type": "code",
   "execution_count": 8,
   "id": "af2646d6",
   "metadata": {},
   "outputs": [
    {
     "name": "stdout",
     "output_type": "stream",
     "text": [
      "Executing dataset augmentation... phase: 3\n",
      "Number of final images: 86127\n",
      "Showing a random transformed image:\n"
     ]
    },
    {
     "data": {
      "image/png": "[encoded data removed]",
      "text/plain": [
       "<Figure size 432x288 with 1 Axes>"
      ]
     },
     "metadata": {
      "needs_background": "light"
     },
     "output_type": "display_data"
    }
   ],
   "source": [
    "if(enanche_dataset_flag):\n",
    "    x_train_ransformed=[]\n",
    "    print(\"Executing dataset augmentation... phase: 3\")\n",
    "\n",
    "    for i in transformedImages:\n",
    "        x_train_ransformed.append((np.asanyarray(i)).reshape(48,48,1))\n",
    "\n",
    "    x_train = np.concatenate((x_train,np.array(x_train_ransformed)))\n",
    "    y_train = np.concatenate((y_train,np.array(transformedLabels)))\n",
    "    \n",
    "    print(\"Number of final images: \" + str(len(x_train)))\n",
    "    print(\"Showing a random transformed image:\")\n",
    "    plot.imshow(transformedImages[-1],cmap='gray')"
   ]
  },
  {
   "cell_type": "markdown",
   "id": "285763b3",
   "metadata": {},
   "source": [
    "Normalizing the emotions img. count. Dataset is not balanced, some emotions have a lower abs. frequency compared to others (disgust is the extreme example of this).\n",
    "\n",
    "This phase is optionally executed. It takes the abs. frequency of the less frequent emotion and randomly discards imgs. from other classes in order to have the same amount of input data for each emotion. \n",
    "\n",
    "Note that this can improve accuracy because input data will be more balanced but at the same time some information is lost (so accuracy can decrease)."
   ]
  },
  {
   "cell_type": "code",
   "execution_count": 9,
   "id": "31c035f6",
   "metadata": {},
   "outputs": [
    {
     "name": "stdout",
     "output_type": "stream",
     "text": [
      "Status:1%\n",
      "Status:2%\n",
      "Status:3%\n",
      "Status:4%\n",
      "Status:5%\n",
      "Status:6%\n",
      "Status:7%\n",
      "Status:8%\n",
      "Status:9%\n",
      "Status:10%\n",
      "Status:11%\n",
      "Status:12%\n",
      "Status:13%\n",
      "Status:14%\n",
      "Status:15%\n",
      "Status:16%\n",
      "Status:17%\n",
      "Status:18%\n",
      "Status:19%\n",
      "Status:20%\n",
      "Status:21%\n",
      "Status:22%\n",
      "Status:23%\n",
      "Status:24%\n",
      "Status:25%\n",
      "Status:26%\n",
      "Status:27%\n",
      "Status:28%\n",
      "Status:29%\n",
      "Status:30%\n",
      "Status:31%\n",
      "Status:32%\n",
      "Status:33%\n",
      "Status:34%\n",
      "Status:35%\n",
      "Status:36%\n",
      "Status:37%\n",
      "Status:38%\n",
      "Status:39%\n",
      "Status:40%\n",
      "Status:41%\n",
      "Status:42%\n",
      "Status:43%\n",
      "Status:44%\n",
      "Status:45%\n",
      "Status:46%\n",
      "Status:47%\n",
      "Status:48%\n",
      "Status:49%\n",
      "Status:50%\n",
      "Status:51%\n",
      "Status:52%\n",
      "Status:53%\n",
      "Status:54%\n",
      "Status:55%\n",
      "Status:56%\n",
      "Status:57%\n",
      "Status:58%\n",
      "Status:59%\n",
      "Status:60%\n",
      "Status:61%\n",
      "Status:62%\n",
      "Status:63%\n",
      "Status:64%\n",
      "Status:65%\n",
      "Status:66%\n",
      "Status:67%\n",
      "Status:68%\n",
      "Status:69%\n",
      "Status:70%\n",
      "Status:71%\n",
      "Status:72%\n",
      "Status:73%\n",
      "Status:74%\n",
      "Status:75%\n",
      "Status:76%\n",
      "Status:77%\n",
      "Status:78%\n",
      "Status:79%\n",
      "Status:80%\n",
      "Status:81%\n",
      "Status:82%\n",
      "Status:83%\n",
      "Status:84%\n",
      "Status:85%\n",
      "Status:86%\n",
      "Status:87%\n",
      "Status:88%\n",
      "Status:89%\n",
      "Status:90%\n",
      "Status:91%\n",
      "Status:92%\n",
      "Status:93%\n",
      "Status:94%\n",
      "Status:95%\n",
      "Status:96%\n",
      "Status:97%\n",
      "Status:98%\n",
      "Status:99%\n",
      "Status: 100%\n"
     ]
    }
   ],
   "source": [
    "minAbsFreq=min(data_train[\"emotion\"].value_counts())\n",
    "originalShape=imgs_train.shape\n",
    "\n",
    "number_of_applied_transformations = 3\n",
    "originalShapeAugmented=(originalShape[0]*number_of_applied_transformations,originalShape[1])\n",
    "lowerBound=minAbsFreq*number_of_applied_transformations\n",
    "\n",
    "x_train_norm=x_train.reshape(originalShapeAugmented)\n",
    "\n",
    "tmpSer=[]\n",
    "merge=\"\"\n",
    "old_percentage = 0\n",
    "\n",
    "for i in range(len(x_train)):\n",
    "    new_percentage = int((i/len(x_train_norm))*100)\n",
    "    if(old_percentage < new_percentage):\n",
    "        print(\"Status:\" + str(new_percentage) + \"%\")\n",
    "        old_percentage = new_percentage\n",
    "    for j in range(len(x_train[i])):\n",
    "        merge=merge+\" \"+str(x_train_norm[i][j])\n",
    "    tmpSer.append(merge)\n",
    "    merge=\"\"\n",
    "print(\"Status: 100%\")\n",
    "ser=pd.Series(tmpSer)\n",
    "\n",
    "d={'emotion':y_train,'pixels':ser}\n",
    "augmentedDF=pd.DataFrame(data=d)"
   ]
  },
  {
   "cell_type": "code",
   "execution_count": null,
   "id": "df00f414",
   "metadata": {},
   "outputs": [],
   "source": []
  },
  {
   "cell_type": "markdown",
   "id": "4797b48e",
   "metadata": {},
   "source": [
    "Creating model input: data is converted into tensors and then loaded into 2 dataloaders: train and test dataloaders."
   ]
  },
  {
   "cell_type": "code",
   "execution_count": 10,
   "id": "1decb3e7",
   "metadata": {},
   "outputs": [],
   "source": [
    "tensor_ids_train = torch.Tensor(x_train)\n",
    "labels_train = torch.LongTensor(y_train)\n",
    "train_dataset = TensorDataset(tensor_ids_train, labels_train)\n",
    "\n",
    "tensor_ids_test = torch.Tensor(x_test)\n",
    "labels_test = torch.LongTensor(y_test)\n",
    "test_dataset = TensorDataset(tensor_ids_test, labels_test)"
   ]
  },
  {
   "cell_type": "code",
   "execution_count": 11,
   "id": "d4e38638",
   "metadata": {},
   "outputs": [],
   "source": [
    "batch_size = 128\n",
    "\n",
    "train_dataloader = DataLoader(train_dataset,\n",
    "                              sampler = RandomSampler(train_dataset),\n",
    "                              batch_size = batch_size)\n",
    "test_dataloader = DataLoader(test_dataset,\n",
    "                              sampler = RandomSampler(test_dataset),\n",
    "                              batch_size = batch_size)"
   ]
  },
  {
   "cell_type": "markdown",
   "id": "3d3b83e1",
   "metadata": {},
   "source": [
    "Defining useful functions for tensor printing"
   ]
  },
  {
   "cell_type": "code",
   "execution_count": 12,
   "id": "e261770b",
   "metadata": {},
   "outputs": [],
   "source": [
    "def showImage(image,size,index,description):\n",
    "    img = image.reshape(size,size)\n",
    "    plot.axis(\"off\")\n",
    "    #print(description)\n",
    "    plot.figure(index)\n",
    "    plot.imshow(img, cmap ='gray')\n",
    "\n",
    "# This function can be used to see a tensor as an image\n",
    "def showTensorAsImage(tensor,size,index,description):\n",
    "      tensor_copy = tensor.to(torch.device(\"cpu\"))\n",
    "      tensor_copy = tensor_copy.detach()\n",
    "      showImage(np.array(tensor_copy[0][0]),size,index,description)\n",
    "     "
   ]
  },
  {
   "cell_type": "markdown",
   "id": "7d1528c4",
   "metadata": {},
   "source": [
    "Checking machine devices. Enable CUDA computation if available."
   ]
  },
  {
   "cell_type": "code",
   "execution_count": 13,
   "id": "cbdf8ffa",
   "metadata": {},
   "outputs": [
    {
     "name": "stdout",
     "output_type": "stream",
     "text": [
      "Is GPU available?\n",
      "Yes :)\n",
      "\n",
      "Is cudnn backend enabled?\n",
      "True\n",
      "\n",
      "Training will run on device: cuda:0\n",
      "NVIDIA GeForce RTX 3070 Ti\n"
     ]
    }
   ],
   "source": [
    "print(\"Is GPU available?\")\n",
    "if(torch.cuda.is_available()):\n",
    "    print(\"Yes :)\")\n",
    "else:\n",
    "    print(\"No :(\")\n",
    "print(\"\")\n",
    "print(\"Is cudnn backend enabled?\")\n",
    "print(torch.backends.cudnn.enabled)\n",
    "print(\"\")\n",
    "device = torch.device(\"cuda:0\" if torch.cuda.is_available() else \"cpu\")\n",
    "print(\"Training will run on device: \" + str(device))\n",
    "if(str(device)==\"cuda:0\"):print( torch.cuda.get_device_name(0))"
   ]
  },
  {
   "cell_type": "markdown",
   "id": "b95f96d7",
   "metadata": {},
   "source": [
    "## 2. Defining the Model\n",
    "\n",
    "The following model is the last iteration/version. Previous versions are not included but informations are included in the PDF report."
   ]
  },
  {
   "cell_type": "code",
   "execution_count": 14,
   "id": "67901b51",
   "metadata": {},
   "outputs": [
    {
     "name": "stdout",
     "output_type": "stream",
     "text": [
      "Net(\n",
      "  (conv1): Conv2d(1, 80, kernel_size=(5, 5), stride=(1, 1), padding=(2, 2))\n",
      "  (conv1_bn): BatchNorm2d(80, eps=1e-05, momentum=0.1, affine=True, track_running_stats=True)\n",
      "  (pool): MaxPool2d(kernel_size=2, stride=2, padding=0, dilation=1, ceil_mode=False)\n",
      "  (conv2): Conv2d(80, 140, kernel_size=(5, 5), stride=(1, 1), padding=(2, 2))\n",
      "  (conv2_bn): BatchNorm2d(140, eps=1e-05, momentum=0.1, affine=True, track_running_stats=True)\n",
      "  (conv3): Conv2d(140, 200, kernel_size=(3, 3), stride=(1, 1), padding=(1, 1))\n",
      "  (conv3_bn): BatchNorm2d(200, eps=1e-05, momentum=0.1, affine=True, track_running_stats=True)\n",
      "  (conv4): Conv2d(200, 250, kernel_size=(3, 3), stride=(1, 1), padding=(1, 1))\n",
      "  (conv4_bn): BatchNorm2d(250, eps=1e-05, momentum=0.1, affine=True, track_running_stats=True)\n",
      "  (fc1): Linear(in_features=2250, out_features=160, bias=True)\n",
      "  (fc1_bn): BatchNorm1d(160, eps=1e-05, momentum=0.1, affine=True, track_running_stats=True)\n",
      "  (fc2): Linear(in_features=160, out_features=70, bias=True)\n",
      "  (fc2_bn): BatchNorm1d(70, eps=1e-05, momentum=0.1, affine=True, track_running_stats=True)\n",
      "  (fc3): Linear(in_features=70, out_features=20, bias=True)\n",
      "  (fc3_bn): BatchNorm1d(20, eps=1e-05, momentum=0.1, affine=True, track_running_stats=True)\n",
      "  (relu): ReLU()\n",
      "  (softmax): Softmax(dim=1)\n",
      "  (drop): Dropout(p=0.25, inplace=False)\n",
      ")\n"
     ]
    }
   ],
   "source": [
    "class Net(nn.Module):\n",
    "    def __init__(self):\n",
    "      super().__init__()\n",
    "      self.conv1 = nn.Conv2d(1,80,kernel_size=5,padding=2) # First convolutional layer\n",
    "      self.conv1_bn = nn.BatchNorm2d(80)\n",
    "      self.pool = nn.MaxPool2d(kernel_size=2,stride=2) # Pooling layer\n",
    "      self.conv2 = nn.Conv2d(80,140,kernel_size=5,padding=2) # Second convolutional layer\n",
    "      self.conv2_bn = nn.BatchNorm2d(140)\n",
    "      self.conv3 = nn.Conv2d(140,200,kernel_size=3,padding=1) # Third convolutional layer\n",
    "      self.conv3_bn = nn.BatchNorm2d(200)\n",
    "      self.conv4 = nn.Conv2d(200,250,kernel_size=3,padding=1) # Fourth convolutional layer\n",
    "      self.conv4_bn = nn.BatchNorm2d(250)\n",
    "      self.fc1 = nn.Linear(250*3*3,160) # First linear layer\n",
    "      self.fc1_bn = nn.BatchNorm1d(160)\n",
    "      self.fc2 = nn.Linear(160,70) # Second linear layer\n",
    "      self.fc2_bn = nn.BatchNorm1d(70)\n",
    "      self.fc3 = nn.Linear(70,20) # Third linear layer\n",
    "      self.fc3_bn = nn.BatchNorm1d(20)\n",
    "      self.relu = nn.ReLU()\n",
    "      self.softmax = nn.Softmax(dim=1)\n",
    "      self.drop = nn.Dropout(p=0.25)\n",
    "\n",
    "    # Applying step-by-step the image classification architecture to the input\n",
    "    def forward(self, x):     \n",
    "      x = self.conv1(x) \n",
    "      x = self.conv1_bn(x)\n",
    "      x = self.relu(x)\n",
    "      x = self.pool(x)\n",
    "      x = self.drop(x)\n",
    "        \n",
    "      if(net.training == False):\n",
    "        showTensorAsImage(x,24,1,description=\"Random tensor from 1st conv. layer\")\n",
    "        \n",
    "      x = self.conv2(x)  \n",
    "      x = self.conv2_bn(x)\n",
    "      x = self.relu(x)\n",
    "      x = self.pool(x)\n",
    "      x = self.drop(x)\n",
    "    \n",
    "      if(net.training == False):\n",
    "        showTensorAsImage(x,12,2,description=\"Random tensor from 2nd conv. layer\")\n",
    "    \n",
    "      x = self.conv3(x)\n",
    "      x = self.conv3_bn(x)\n",
    "      x = self.relu(x)\n",
    "      x = self.pool(x)\n",
    "      x = self.drop(x)\n",
    "        \n",
    "      if(net.training == False):\n",
    "        showTensorAsImage(x,6,3,description=\"Random tensor from 3rd conv. layer\")\n",
    "        \n",
    "      x = self.conv4(x)\n",
    "      x = self.conv4_bn(x)\n",
    "      x = self.relu(x)\n",
    "      x = self.pool(x)\n",
    "      x = self.drop(x)\n",
    "    \n",
    "      x = x.reshape(x.size(0),250*3*3) # Modifying the shape of x to make the tensor fit in the first linear\n",
    "      x = self.fc1(x)\n",
    "      x = self.fc1_bn(x)\n",
    "      x = self.relu(x) # Applying the activation function\n",
    "      x = self.drop(x)\n",
    "    \n",
    "      x = self.fc2(x)\n",
    "      x = self.fc2_bn(x)\n",
    "      x = self.relu(x) # Applying the activation function\n",
    "      x = self.drop(x)\n",
    "        \n",
    "      x = self.fc3(x)\n",
    "      x = self.fc3_bn(x)\n",
    "      x = self.softmax(x)\n",
    "      return x\n",
    "\n",
    "net = Net()\n",
    "print(net)"
   ]
  },
  {
   "cell_type": "markdown",
   "id": "82a77de1",
   "metadata": {},
   "source": [
    "#### Train function definition"
   ]
  },
  {
   "cell_type": "code",
   "execution_count": null,
   "id": "fe847c1a",
   "metadata": {
    "scrolled": false
   },
   "outputs": [
    {
     "name": "stdout",
     "output_type": "stream",
     "text": [
      "[epoch: 1, mini-batch: 673] loss: 2.790\n",
      "[epoch: 2, mini-batch: 673] loss: 2.666\n",
      "[epoch: 3, mini-batch: 673] loss: 2.630\n",
      "[epoch: 4, mini-batch: 673] loss: 2.604\n"
     ]
    }
   ],
   "source": [
    "# Moving model to device (to cuda if available)\n",
    "net = net.to(device)\n",
    "net.train()\n",
    "\n",
    "criterion = nn.CrossEntropyLoss() # Defining the criterion\n",
    "\n",
    "#optimizer = optim.SGD(net.parameters(),momentum=0.9,lr=0.001) # Defining the optimizer\n",
    "optimizer = optim.Adam(net.parameters(),lr=0.003)\n",
    "\n",
    "start_time = time.time()\n",
    "\n",
    "for epoch in range(350): #Looping over the dataset three times\n",
    "\n",
    "    running_loss = 0.0\n",
    "    for i, data in enumerate(train_dataloader, 0):\n",
    "        \n",
    "        inputs, labels = data # The input data is a list [inputs, labels]\n",
    "\n",
    "        inputs = inputs.permute(0, 3, 1, 2) # permuting the input to match the order used by pytorch\n",
    "        \n",
    "        # Moving to device (to cuda if available)\n",
    "        inputs = inputs.to(device)\n",
    "        labels = labels.to(device)\n",
    "        \n",
    "        optimizer.zero_grad() # Setting the parameter gradients to zero\n",
    "\n",
    "        outputs = net(inputs) # Forward pass\n",
    "        loss = criterion(outputs,labels) # Applying the criterion\n",
    "        loss.backward() # Backward pass\n",
    "        optimizer.step() # Optimization step\n",
    "\n",
    "        running_loss += loss.item() # Updating the running loss\n",
    "        if i % len(train_dataloader) == len(train_dataloader)-1:  # Printing the running loss\n",
    "            print('[epoch: %d, mini-batch: %d] loss: %.3f' %\n",
    "                  (epoch + 1, i + 1, running_loss / len(train_dataloader)))\n",
    "            running_loss = 0.0\n",
    "\n",
    "print('Finished Training :)')\n",
    "print(\"Training time: %s seconds\" % (time.time() - start_time))"
   ]
  },
  {
   "cell_type": "markdown",
   "id": "1fec849e",
   "metadata": {},
   "source": [
    "#### Evaluating the model\n",
    "Public test set is used in order to test che model accuracy and other metrics"
   ]
  },
  {
   "cell_type": "code",
   "execution_count": null,
   "id": "98a61518",
   "metadata": {},
   "outputs": [],
   "source": [
    "# Calculating the accuracy of the network on the whole dataset\n",
    "correct = 0\n",
    "total = 0\n",
    "i = 0\n",
    "\n",
    "# Setting network in evaluation/testing mode (for disabling dropout layers)\n",
    "net.eval()\n",
    "\n",
    "with torch.no_grad():\n",
    "    for data in test_dataloader:\n",
    "        \n",
    "        images, labels = data # Getting the test data\n",
    "\n",
    "        images = images.permute(0, 3, 1, 2)\n",
    "        # Moving to device (cuda if available)\n",
    "        images = images.to(device)\n",
    "        labels = labels.to(device)\n",
    "        outputs = net(images) # Getting the network output\n",
    "        _, predicted = torch.max(outputs.data, 1)\n",
    "        total += labels.size(0)\n",
    "        correct += (predicted == labels).sum().item()\n",
    "        \n",
    "accurcyMean=100 * correct / total\n",
    "              \n",
    "print('Accuracy of the network on the %d test images (Public test-set): %d %%' % (len(imgs_test), accurcyMean))\n",
    "\n",
    "# showing accumulated (convs) plots\n",
    "plot.show()"
   ]
  },
  {
   "cell_type": "code",
   "execution_count": null,
   "id": "b1162745",
   "metadata": {},
   "outputs": [],
   "source": [
    "classes=len(np.unique(y_test))\n",
    "\n",
    "#Calculating the accuracy of the network on each class of images\n",
    "class_correct = list(0. for i in range(classes))\n",
    "class_total = list(0. for i in range(classes))\n",
    "\n",
    "net.eval()\n",
    "\n",
    "with torch.no_grad():\n",
    "    for data in test_dataloader:\n",
    "        images, labels = data # Getting the test data\n",
    "\n",
    "        images=images.permute(0,3,1,2)\n",
    "\n",
    "        images=images.to(device)\n",
    "        labels=labels.to(device)\n",
    "        \n",
    "        outputs = net(images) # Getting the network output\n",
    "        _, predicted = torch.max(outputs, 1)\n",
    "        c = (predicted == labels).squeeze()\n",
    "        for i in range(5):\n",
    "            label = labels[i]\n",
    "            class_correct[label] += c[i].item()\n",
    "            class_total[label] += 1\n",
    "            if(class_total[label] == 0): print(\":C\")\n",
    "\n",
    "accuracy=list(0. for i in range(classes))\n",
    "\n",
    "for i in range(classes):\n",
    "    accuracy[i] = 100 * (class_correct[i] / (class_total[i]+1))\n",
    "\n",
    "for i in range(len(np.unique(y_test))):\n",
    "    print('Accuracy of %s (Class: %s): \\t %2d %%' % (emotions_labels_to_text[i],np.unique(y_test)[i], 100 * class_correct[i] / class_total[i]))"
   ]
  },
  {
   "cell_type": "code",
   "execution_count": null,
   "id": "7e8da404",
   "metadata": {},
   "outputs": [],
   "source": [
    "#Calculating the accuracy of the network on each class of images\n",
    "class_true_positive = list(0. for i in range(classes))\n",
    "class_false_positive = list(0. for i in range(classes))\n",
    "\n",
    "class_true_negative = list(0. for i in range(classes))\n",
    "class_false_negative = list(0. for i in range(classes))\n",
    "\n",
    "net.eval()\n",
    "\n",
    "for i in range(classes):\n",
    "    for data in test_dataloader:\n",
    "        images, labels = data # Getting the test data\n",
    "\n",
    "        images=images.permute(0,3,1,2)\n",
    "\n",
    "        images=images.to(device)\n",
    "        labels=labels.to(device)\n",
    "        \n",
    "        outputs = net(images) # Getting the network output\n",
    "        _, predicted = torch.max(outputs, 1)\n",
    "        for j in range(len(labels)):\n",
    "            if labels[j]==i:\n",
    "                if predicted[j]==i:\n",
    "                    class_true_positive[i]+=1\n",
    "                else:\n",
    "                    class_false_negative[i]+=1\n",
    "            else:\n",
    "                if predicted[j]==i:\n",
    "                    class_false_positive[i]+=1\n",
    "                    \n",
    "precision = list(0. for i in range(classes))\n",
    "recall = list(0. for i in range(classes))\n",
    "\n",
    "for i in range(classes):\n",
    "    precision[i]= 100 * class_true_positive[i] / (class_true_positive[i] + class_false_positive[i]+1)\n",
    "\n",
    "for i in range(len(np.unique(y_test))):\n",
    "    print('Precision of %5s : %2d %%' % (\n",
    "        np.unique(y_test)[i], precision[i]))\n",
    "\n",
    "for i in range(classes):\n",
    "    recall[i]=100 * class_true_positive[i] / (class_true_positive[i] + class_false_negative[i]+1)\n",
    "\n",
    "for i in range(len(np.unique(y_test))):\n",
    "    print('Recall of %5s : %2d %%' % (\n",
    "        np.unique(y_test)[i], recall[i]))\n",
    "\n",
    "print(\"\\n\")\n",
    "\n",
    "info={'recall':recall,'precision':precision,'accuracy':accuracy}\n",
    "infoDF=pd.DataFrame(data=info)\n",
    "print(infoDF)\n",
    "print(\"Accuracy \\t %d\"%(accurcyMean))"
   ]
  },
  {
   "cell_type": "code",
   "execution_count": null,
   "id": "9ddba7d6",
   "metadata": {},
   "outputs": [],
   "source": []
  },
  {
   "cell_type": "code",
   "execution_count": null,
   "id": "cfd2070b",
   "metadata": {},
   "outputs": [],
   "source": []
  },
  {
   "cell_type": "code",
   "execution_count": null,
   "id": "e46970d6",
   "metadata": {},
   "outputs": [],
   "source": []
  },
  {
   "cell_type": "code",
   "execution_count": null,
   "id": "094585c1",
   "metadata": {},
   "outputs": [],
   "source": []
  }
 ],
 "metadata": {
  "kernelspec": {
   "display_name": "Python 3 (ipykernel)",
   "language": "python",
   "name": "python3"
  },
  "language_info": {
   "codemirror_mode": {
    "name": "ipython",
    "version": 3
   },
   "file_extension": ".py",
   "mimetype": "text/x-python",
   "name": "python",
   "nbconvert_exporter": "python",
   "pygments_lexer": "ipython3",
   "version": "3.8.12"
  }
 },
 "nbformat": 4,
 "nbformat_minor": 5
}
