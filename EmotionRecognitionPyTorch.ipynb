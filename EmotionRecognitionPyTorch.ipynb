{
 "cells": [
  {
   "cell_type": "markdown",
   "id": "37a9dd41",
   "metadata": {},
   "source": [
    "# Emotion Recognition with CNNs\n",
    "Andrea Mansi (137857)\n",
    "\n",
    "Christian Cagnoni (137690)"
   ]
  },
  {
   "cell_type": "code",
   "execution_count": 1,
   "id": "60ef9000",
   "metadata": {},
   "outputs": [],
   "source": [
    "import os\n",
    "import numpy as np\n",
    "import pandas as pd\n",
    "import torch\n",
    "import torchvision\n",
    "from torch.utils.data import TensorDataset\n",
    "from torch.utils.data import DataLoader, RandomSampler, SequentialSampler\n",
    "import torch.nn as nn\n",
    "import torch.nn.functional as F\n",
    "import torch.optim as optim\n",
    "import matplotlib.pyplot as plot\n",
    "from PIL import Image\n",
    "import torchvision.transforms as T\n",
    "import time"
   ]
  },
  {
   "cell_type": "markdown",
   "id": "1be59ab4",
   "metadata": {},
   "source": [
    "## 1. Data import and preprocessing\n",
    "\n",
    "The input dataset is from FER2013 competition.\n",
    "\n",
    "Dataset URL: https://www.kaggle.com/ashishpatel26/facial-expression-recognitionferchallenge"
   ]
  },
  {
   "cell_type": "code",
   "execution_count": 2,
   "id": "67a5fceb",
   "metadata": {},
   "outputs": [
    {
     "name": "stdout",
     "output_type": "stream",
     "text": [
      "Shape:(35887, 3)\n",
      "   emotion                                             pixels     Usage\n",
      "0        0  70 80 82 72 58 58 60 63 54 58 60 48 89 115 121...  Training\n",
      "1        0  151 150 147 155 148 133 111 140 170 174 182 15...  Training\n",
      "2        2  231 212 156 164 174 138 161 173 182 200 106 38...  Training\n",
      "3        4  24 32 36 30 32 23 19 20 30 41 21 22 32 34 21 1...  Training\n"
     ]
    }
   ],
   "source": [
    "# Data reading from csv file\n",
    "# Insert your path here:\n",
    "data_path = \"C:/Users/Mansitos_Picci/Desktop/fer2013.csv\"\n",
    "dataframe = pd.read_csv(data_path)\n",
    "\n",
    "# Printing dataset main infos\n",
    "print(\"Shape:\" + str(dataframe.shape))\n",
    "print(dataframe.head(4))"
   ]
  },
  {
   "cell_type": "markdown",
   "id": "c6eddf37",
   "metadata": {},
   "source": [
    "Counting and plotting all the emotions. Dataset is not \"balanced\" some emotions are less present."
   ]
  },
  {
   "cell_type": "code",
   "execution_count": 3,
   "id": "5b92d5ee",
   "metadata": {},
   "outputs": [
    {
     "data": {
      "image/png": "[encoded data removed]",
      "text/plain": [
       "<Figure size 720x288 with 1 Axes>"
      ]
     },
     "metadata": {
      "needs_background": "light"
     },
     "output_type": "display_data"
    }
   ],
   "source": [
    "emotions_labels_to_text = {0:'Anger >:(', 1:'Disgust :S', 2:'Fear :\"(', 3:'Happiness :D', 4: 'Sadness :(', 5: 'Surprise :O', 6: 'Neutral :|'}\n",
    "\n",
    "emotions_counts = dataframe['emotion'].value_counts(sort=False).reset_index()\n",
    "emotions_counts.columns = ['emotion', 'number']\n",
    "emotions_counts['emotion'] = emotions_counts['emotion'].map(emotions_labels_to_text)\n",
    "\n",
    "plot.figure(figsize=(10, 4))\n",
    "plot.bar(emotions_counts.emotion, emotions_counts.number)\n",
    "plot.title('Emotions distribution')\n",
    "plot.xlabel('\\nEmotions', fontsize=12)\n",
    "plot.ylabel('Number\\n', fontsize=12)\n",
    "plot.show()"
   ]
  },
  {
   "cell_type": "markdown",
   "id": "c298a845",
   "metadata": {},
   "source": [
    "Processing the input data and preparing test and validation sets. Public test will be used, private test will be ignored."
   ]
  },
  {
   "cell_type": "code",
   "execution_count": 4,
   "id": "732daf85",
   "metadata": {},
   "outputs": [],
   "source": [
    "# Taking Training data (dataset is already subdivided into training and test (private and public))\n",
    "data_train = dataframe[dataframe.Usage == \"Training\"]\n",
    "data_test  = dataframe[dataframe.Usage == \"PublicTest\"]\n",
    "\n",
    "# Processing the pixel column: converting the list (in which each pixel value is separated by a whitespace) into a list of ints\n",
    "imgs_train = pd.DataFrame(data_train.pixels.str.split(\" \").tolist())\n",
    "imgs_test  = pd.DataFrame(data_test.pixels.str.split(\" \").tolist())\n",
    "\n",
    "# Float conversion\n",
    "imgs_train = imgs_train.values.astype(float)\n",
    "imgs_test = imgs_test.values.astype(float)\n",
    "\n",
    "# reshaping to match model input\n",
    "x_train = imgs_train.reshape(-1, 48 , 48 ,1)\n",
    "x_test = imgs_test.reshape(-1, 48, 48, 1)\n",
    "\n",
    "# taking label train column and converting into monodimensional array\n",
    "y_train = data_train[\"emotion\"].values\n",
    "y_test = data_test[\"emotion\"].values"
   ]
  },
  {
   "cell_type": "markdown",
   "id": "2a59b184",
   "metadata": {},
   "source": [
    "Dataset augmentation phase. This phase enlarge the dataset by applying transformations to images. It can be skipped in order to use the raw input dataset. Enlarged dataset will require more time for training phase."
   ]
  },
  {
   "cell_type": "code",
   "execution_count": 5,
   "id": "9ec22972",
   "metadata": {},
   "outputs": [],
   "source": [
    "# set to TRUE if you want the test dataset to be enlarged by applying transformations to images\n",
    "enanche_dataset_flag = True"
   ]
  },
  {
   "cell_type": "code",
   "execution_count": 6,
   "id": "5af74244",
   "metadata": {},
   "outputs": [
    {
     "name": "stdout",
     "output_type": "stream",
     "text": [
      "Executing dataset augmentation... phase: 1\n",
      "Number of starting images: 28709\n",
      "Showing a random starting image:\n"
     ]
    },
    {
     "data": {
      "image/png": "[encoded data removed]",
      "text/plain": [
       "<Figure size 432x288 with 1 Axes>"
      ]
     },
     "metadata": {
      "needs_background": "light"
     },
     "output_type": "display_data"
    }
   ],
   "source": [
    "if(enanche_dataset_flag):\n",
    "    print(\"Executing dataset augmentation... phase: 1\")\n",
    "    img=[]\n",
    "\n",
    "    def arrayToImage(array):\n",
    "        new_im = Image.new(\"L\", (48,48))\n",
    "\n",
    "        x_offset = 0\n",
    "        for im in array:\n",
    "          new_im.paste(im, (x_offset,0))\n",
    "          x_offset += im.size[0]\n",
    "\n",
    "        img.append((new_im.rotate(-90)).transpose(Image.FLIP_LEFT_RIGHT))\n",
    "\n",
    "    for i in range(len(x_train)):\n",
    "        tmp_img=[]\n",
    "        for j in range(len(x_train[i])):\n",
    "            tmp_img.append(Image.fromarray(x_train[i][j]))\n",
    "        arrayToImage(tmp_img)\n",
    "\n",
    "    \n",
    "    print(\"Number of starting images: \" + str(len(img)))\n",
    "    print(\"Showing a random starting image:\")\n",
    "    plot.imshow(img[0],cmap='gray')\n",
    "else:\n",
    "    print(\"Dataset augmentation skipped...\")"
   ]
  },
  {
   "cell_type": "code",
   "execution_count": 7,
   "id": "93720c22",
   "metadata": {},
   "outputs": [
    {
     "name": "stdout",
     "output_type": "stream",
     "text": [
      "Executing dataset augmentation... phase: 2\n"
     ]
    }
   ],
   "source": [
    "if(enanche_dataset_flag):\n",
    "    print(\"Executing dataset augmentation... phase: 2\")\n",
    "    torch.manual_seed(42)\n",
    "\n",
    "    transformedImages=[]\n",
    "    transformedLabels=[]\n",
    "\n",
    "    perspective_transfromer = T.RandomPerspective(distortion_scale=0.5,p=0.5)\n",
    "    rotater = T.RandomRotation(degrees=(-90, 90))\n",
    "    \n",
    "    for i in range(len(img)):\n",
    "        transformedImages.append(perspective_transfromer(img[i]))\n",
    "        transformedLabels.append(y_train[i])\n",
    "    for i in range(len(img)):\n",
    "        transformedImages.append(rotater(img[i]))\n",
    "        transformedLabels.append(y_train[i])"
   ]
  },
  {
   "cell_type": "code",
   "execution_count": 8,
   "id": "af2646d6",
   "metadata": {},
   "outputs": [
    {
     "name": "stdout",
     "output_type": "stream",
     "text": [
      "Executing dataset augmentation... phase: 3\n",
      "Number of final images: 86127\n",
      "Showing a random transformed image:\n"
     ]
    },
    {
     "data": {
      "image/png": "[encoded data removed]",
      "text/plain": [
       "<Figure size 432x288 with 1 Axes>"
      ]
     },
     "metadata": {
      "needs_background": "light"
     },
     "output_type": "display_data"
    }
   ],
   "source": [
    "if(enanche_dataset_flag):\n",
    "    x_train_ransformed=[]\n",
    "    print(\"Executing dataset augmentation... phase: 3\")\n",
    "\n",
    "    for i in transformedImages:\n",
    "        x_train_ransformed.append((np.asanyarray(i)).reshape(48,48,1))\n",
    "\n",
    "    x_train = np.concatenate((x_train,np.array(x_train_ransformed)))\n",
    "    y_train = np.concatenate((y_train,np.array(transformedLabels)))\n",
    "    \n",
    "    print(\"Number of final images: \" + str(len(x_train)))\n",
    "    print(\"Showing a random transformed image:\")\n",
    "    plot.imshow(transformedImages[-1],cmap='gray')"
   ]
  },
  {
   "cell_type": "markdown",
   "id": "285763b3",
   "metadata": {},
   "source": [
    "Normalizing the emotions img. count. Dataset is not balanced, some emotions have a lower abs. frequency compared to others (disgust is the extreme example of this).\n",
    "\n",
    "This phase is optionally executed. It takes the abs. frequency of the less frequent emotion and randomly discards imgs. from other classes in order to have the same amount of input data for each emotion. \n",
    "\n",
    "Note that this can improve accuracy because input data will be more balanced but at the same time some information is lost (so accuracy can decrease)."
   ]
  },
  {
   "cell_type": "code",
   "execution_count": 9,
   "id": "31c035f6",
   "metadata": {},
   "outputs": [
    {
     "name": "stdout",
     "output_type": "stream",
     "text": [
      "Status:1%\n",
      "Status:2%\n",
      "Status:3%\n",
      "Status:4%\n",
      "Status:5%\n",
      "Status:6%\n",
      "Status:7%\n",
      "Status:8%\n",
      "Status:9%\n",
      "Status:10%\n",
      "Status:11%\n",
      "Status:12%\n",
      "Status:13%\n",
      "Status:14%\n",
      "Status:15%\n",
      "Status:16%\n",
      "Status:17%\n",
      "Status:18%\n",
      "Status:19%\n",
      "Status:20%\n",
      "Status:21%\n",
      "Status:22%\n",
      "Status:23%\n",
      "Status:24%\n",
      "Status:25%\n",
      "Status:26%\n",
      "Status:27%\n",
      "Status:28%\n",
      "Status:29%\n",
      "Status:30%\n",
      "Status:31%\n",
      "Status:32%\n",
      "Status:33%\n",
      "Status:34%\n",
      "Status:35%\n",
      "Status:36%\n",
      "Status:37%\n",
      "Status:38%\n",
      "Status:39%\n",
      "Status:40%\n",
      "Status:41%\n",
      "Status:42%\n",
      "Status:43%\n",
      "Status:44%\n",
      "Status:45%\n",
      "Status:46%\n",
      "Status:47%\n",
      "Status:48%\n",
      "Status:49%\n",
      "Status:50%\n",
      "Status:51%\n",
      "Status:52%\n",
      "Status:53%\n",
      "Status:54%\n",
      "Status:55%\n",
      "Status:56%\n",
      "Status:57%\n",
      "Status:58%\n",
      "Status:59%\n",
      "Status:60%\n",
      "Status:61%\n",
      "Status:62%\n",
      "Status:63%\n",
      "Status:64%\n",
      "Status:65%\n",
      "Status:66%\n",
      "Status:67%\n",
      "Status:68%\n",
      "Status:69%\n",
      "Status:70%\n",
      "Status:71%\n",
      "Status:72%\n",
      "Status:73%\n",
      "Status:74%\n",
      "Status:75%\n",
      "Status:76%\n",
      "Status:77%\n",
      "Status:78%\n",
      "Status:79%\n",
      "Status:80%\n",
      "Status:81%\n",
      "Status:82%\n",
      "Status:83%\n",
      "Status:84%\n",
      "Status:85%\n",
      "Status:86%\n",
      "Status:87%\n",
      "Status:88%\n",
      "Status:89%\n",
      "Status:90%\n",
      "Status:91%\n",
      "Status:92%\n",
      "Status:93%\n",
      "Status:94%\n",
      "Status:95%\n",
      "Status:96%\n",
      "Status:97%\n",
      "Status:98%\n",
      "Status:99%\n",
      "Status: 100%\n"
     ]
    }
   ],
   "source": [
    "minAbsFreq=min(data_train[\"emotion\"].value_counts())\n",
    "originalShape=imgs_train.shape\n",
    "\n",
    "number_of_applied_transformations = 3\n",
    "originalShapeAugmented=(originalShape[0]*number_of_applied_transformations,originalShape[1])\n",
    "lowerBound=minAbsFreq*number_of_applied_transformations\n",
    "\n",
    "x_train_norm=x_train.reshape(originalShapeAugmented)\n",
    "\n",
    "tmpSer=[]\n",
    "merge=\"\"\n",
    "old_percentage = 0\n",
    "\n",
    "for i in range(len(x_train)):\n",
    "    new_percentage = int((i/len(x_train_norm))*100)\n",
    "    if(old_percentage < new_percentage):\n",
    "        print(\"Status:\" + str(new_percentage) + \"%\")\n",
    "        old_percentage = new_percentage\n",
    "    for j in range(len(x_train[i])):\n",
    "        merge=merge+\" \"+str(x_train_norm[i][j])\n",
    "    tmpSer.append(merge)\n",
    "    merge=\"\"\n",
    "print(\"Status: 100%\")\n",
    "ser=pd.Series(tmpSer)\n",
    "\n",
    "d={'emotion':y_train,'pixels':ser}\n",
    "augmentedDF=pd.DataFrame(data=d)"
   ]
  },
  {
   "cell_type": "code",
   "execution_count": null,
   "id": "df00f414",
   "metadata": {},
   "outputs": [],
   "source": []
  },
  {
   "cell_type": "markdown",
   "id": "4797b48e",
   "metadata": {},
   "source": [
    "Creating model input: data is converted into tensors and then loaded into 2 dataloaders: train and test dataloaders."
   ]
  },
  {
   "cell_type": "code",
   "execution_count": 10,
   "id": "1decb3e7",
   "metadata": {},
   "outputs": [],
   "source": [
    "tensor_ids_train = torch.Tensor(x_train)\n",
    "labels_train = torch.LongTensor(y_train)\n",
    "train_dataset = TensorDataset(tensor_ids_train, labels_train)\n",
    "\n",
    "tensor_ids_test = torch.Tensor(x_test)\n",
    "labels_test = torch.LongTensor(y_test)\n",
    "test_dataset = TensorDataset(tensor_ids_test, labels_test)"
   ]
  },
  {
   "cell_type": "code",
   "execution_count": 11,
   "id": "d4e38638",
   "metadata": {},
   "outputs": [],
   "source": [
    "batch_size = 128\n",
    "\n",
    "train_dataloader = DataLoader(train_dataset,\n",
    "                              sampler = RandomSampler(train_dataset),\n",
    "                              batch_size = batch_size)\n",
    "test_dataloader = DataLoader(test_dataset,\n",
    "                              sampler = RandomSampler(test_dataset),\n",
    "                              batch_size = batch_size)"
   ]
  },
  {
   "cell_type": "markdown",
   "id": "3d3b83e1",
   "metadata": {},
   "source": [
    "Defining useful functions for tensor printing"
   ]
  },
  {
   "cell_type": "code",
   "execution_count": 12,
   "id": "e261770b",
   "metadata": {},
   "outputs": [],
   "source": [
    "def showImage(image,size,index,description):\n",
    "    img = image.reshape(size,size)\n",
    "    plot.axis(\"off\")\n",
    "    #print(description)\n",
    "    plot.figure(index)\n",
    "    plot.imshow(img, cmap ='gray')\n",
    "\n",
    "# This function can be used to see a tensor as an image\n",
    "def showTensorAsImage(tensor,size,index,description):\n",
    "      tensor_copy = tensor.to(torch.device(\"cpu\"))\n",
    "      tensor_copy = tensor_copy.detach()\n",
    "      showImage(np.array(tensor_copy[0][0]),size,index,description)\n",
    "     "
   ]
  },
  {
   "cell_type": "markdown",
   "id": "7d1528c4",
   "metadata": {},
   "source": [
    "Checking machine devices. Enable CUDA computation if available."
   ]
  },
  {
   "cell_type": "code",
   "execution_count": 13,
   "id": "cbdf8ffa",
   "metadata": {},
   "outputs": [
    {
     "name": "stdout",
     "output_type": "stream",
     "text": [
      "Is GPU available?\n",
      "Yes :)\n",
      "\n",
      "Is cudnn backend enabled?\n",
      "True\n",
      "\n",
      "Training will run on device: cuda:0\n",
      "NVIDIA GeForce RTX 3070 Ti\n"
     ]
    }
   ],
   "source": [
    "print(\"Is GPU available?\")\n",
    "if(torch.cuda.is_available()):\n",
    "    print(\"Yes :)\")\n",
    "else:\n",
    "    print(\"No :(\")\n",
    "print(\"\")\n",
    "print(\"Is cudnn backend enabled?\")\n",
    "print(torch.backends.cudnn.enabled)\n",
    "print(\"\")\n",
    "device = torch.device(\"cuda:0\" if torch.cuda.is_available() else \"cpu\")\n",
    "print(\"Training will run on device: \" + str(device))\n",
    "if(str(device)==\"cuda:0\"):print( torch.cuda.get_device_name(0))"
   ]
  },
  {
   "cell_type": "markdown",
   "id": "b95f96d7",
   "metadata": {},
   "source": [
    "## 2. Defining the Model\n",
    "\n",
    "The following model is the last iteration/version. Previous versions are not included but informations are included in the PDF report."
   ]
  },
  {
   "cell_type": "code",
   "execution_count": 14,
   "id": "67901b51",
   "metadata": {},
   "outputs": [
    {
     "name": "stdout",
     "output_type": "stream",
     "text": [
      "Net(\n",
      "  (conv1): Conv2d(1, 80, kernel_size=(5, 5), stride=(1, 1), padding=(2, 2))\n",
      "  (conv1_bn): BatchNorm2d(80, eps=1e-05, momentum=0.1, affine=True, track_running_stats=True)\n",
      "  (pool): MaxPool2d(kernel_size=2, stride=2, padding=0, dilation=1, ceil_mode=False)\n",
      "  (conv2): Conv2d(80, 140, kernel_size=(5, 5), stride=(1, 1), padding=(2, 2))\n",
      "  (conv2_bn): BatchNorm2d(140, eps=1e-05, momentum=0.1, affine=True, track_running_stats=True)\n",
      "  (conv3): Conv2d(140, 200, kernel_size=(3, 3), stride=(1, 1), padding=(1, 1))\n",
      "  (conv3_bn): BatchNorm2d(200, eps=1e-05, momentum=0.1, affine=True, track_running_stats=True)\n",
      "  (conv4): Conv2d(200, 250, kernel_size=(3, 3), stride=(1, 1), padding=(1, 1))\n",
      "  (conv4_bn): BatchNorm2d(250, eps=1e-05, momentum=0.1, affine=True, track_running_stats=True)\n",
      "  (fc1): Linear(in_features=2250, out_features=160, bias=True)\n",
      "  (fc1_bn): BatchNorm1d(160, eps=1e-05, momentum=0.1, affine=True, track_running_stats=True)\n",
      "  (fc2): Linear(in_features=160, out_features=70, bias=True)\n",
      "  (fc2_bn): BatchNorm1d(70, eps=1e-05, momentum=0.1, affine=True, track_running_stats=True)\n",
      "  (fc3): Linear(in_features=70, out_features=20, bias=True)\n",
      "  (fc3_bn): BatchNorm1d(20, eps=1e-05, momentum=0.1, affine=True, track_running_stats=True)\n",
      "  (relu): ReLU()\n",
      "  (softmax): Softmax(dim=1)\n",
      "  (drop): Dropout(p=0.25, inplace=False)\n",
      ")\n"
     ]
    }
   ],
   "source": [
    "class Net(nn.Module):\n",
    "    def __init__(self):\n",
    "      super().__init__()\n",
    "      self.conv1 = nn.Conv2d(1,80,kernel_size=5,padding=2) # First convolutional layer\n",
    "      self.conv1_bn = nn.BatchNorm2d(80)\n",
    "      self.pool = nn.MaxPool2d(kernel_size=2,stride=2) # Pooling layer\n",
    "      self.conv2 = nn.Conv2d(80,140,kernel_size=5,padding=2) # Second convolutional layer\n",
    "      self.conv2_bn = nn.BatchNorm2d(140)\n",
    "      self.conv3 = nn.Conv2d(140,200,kernel_size=3,padding=1) # Third convolutional layer\n",
    "      self.conv3_bn = nn.BatchNorm2d(200)\n",
    "      self.conv4 = nn.Conv2d(200,250,kernel_size=3,padding=1) # Fourth convolutional layer\n",
    "      self.conv4_bn = nn.BatchNorm2d(250)\n",
    "      self.fc1 = nn.Linear(250*3*3,160) # First linear layer\n",
    "      self.fc1_bn = nn.BatchNorm1d(160)\n",
    "      self.fc2 = nn.Linear(160,70) # Second linear layer\n",
    "      self.fc2_bn = nn.BatchNorm1d(70)\n",
    "      self.fc3 = nn.Linear(70,20) # Third linear layer\n",
    "      self.fc3_bn = nn.BatchNorm1d(20)\n",
    "      self.relu = nn.ReLU()\n",
    "      self.softmax = nn.Softmax(dim=1)\n",
    "      self.drop = nn.Dropout(p=0.25)\n",
    "\n",
    "    # Applying step-by-step the image classification architecture to the input\n",
    "    def forward(self, x):     \n",
    "      x = self.conv1(x) \n",
    "      x = self.conv1_bn(x)\n",
    "      x = self.relu(x)\n",
    "      x = self.pool(x)\n",
    "      x = self.drop(x)\n",
    "        \n",
    "      if(net.training == False):\n",
    "        showTensorAsImage(x,24,1,description=\"Random tensor from 1st conv. layer\")\n",
    "        \n",
    "      x = self.conv2(x)  \n",
    "      x = self.conv2_bn(x)\n",
    "      x = self.relu(x)\n",
    "      x = self.pool(x)\n",
    "      x = self.drop(x)\n",
    "    \n",
    "      if(net.training == False):\n",
    "        showTensorAsImage(x,12,2,description=\"Random tensor from 2nd conv. layer\")\n",
    "    \n",
    "      x = self.conv3(x)\n",
    "      x = self.conv3_bn(x)\n",
    "      x = self.relu(x)\n",
    "      x = self.pool(x)\n",
    "      x = self.drop(x)\n",
    "        \n",
    "      if(net.training == False):\n",
    "        showTensorAsImage(x,6,3,description=\"Random tensor from 3rd conv. layer\")\n",
    "        \n",
    "      x = self.conv4(x)\n",
    "      x = self.conv4_bn(x)\n",
    "      x = self.relu(x)\n",
    "      x = self.pool(x)\n",
    "      x = self.drop(x)\n",
    "    \n",
    "      x = x.reshape(x.size(0),250*3*3) # Modifying the shape of x to make the tensor fit in the first linear\n",
    "      x = self.fc1(x)\n",
    "      x = self.fc1_bn(x)\n",
    "      x = self.relu(x) # Applying the activation function\n",
    "      x = self.drop(x)\n",
    "    \n",
    "      x = self.fc2(x)\n",
    "      x = self.fc2_bn(x)\n",
    "      x = self.relu(x) # Applying the activation function\n",
    "      x = self.drop(x)\n",
    "        \n",
    "      x = self.fc3(x)\n",
    "      x = self.fc3_bn(x)\n",
    "      x = self.softmax(x)\n",
    "      return x\n",
    "\n",
    "net = Net()\n",
    "print(net)"
   ]
  },
  {
   "cell_type": "markdown",
   "id": "82a77de1",
   "metadata": {},
   "source": [
    "#### Train function definition"
   ]
  },
  {
   "cell_type": "code",
   "execution_count": 15,
   "id": "fe847c1a",
   "metadata": {
    "scrolled": false
   },
   "outputs": [
    {
     "name": "stdout",
     "output_type": "stream",
     "text": [
      "[epoch: 1, mini-batch: 673] loss: 2.790\n",
      "[epoch: 2, mini-batch: 673] loss: 2.666\n",
      "[epoch: 3, mini-batch: 673] loss: 2.630\n",
      "[epoch: 4, mini-batch: 673] loss: 2.604\n",
      "[epoch: 5, mini-batch: 673] loss: 2.584\n",
      "[epoch: 6, mini-batch: 673] loss: 2.569\n",
      "[epoch: 7, mini-batch: 673] loss: 2.561\n",
      "[epoch: 8, mini-batch: 673] loss: 2.547\n",
      "[epoch: 9, mini-batch: 673] loss: 2.536\n",
      "[epoch: 10, mini-batch: 673] loss: 2.529\n",
      "[epoch: 11, mini-batch: 673] loss: 2.525\n",
      "[epoch: 12, mini-batch: 673] loss: 2.515\n",
      "[epoch: 13, mini-batch: 673] loss: 2.510\n",
      "[epoch: 14, mini-batch: 673] loss: 2.504\n",
      "[epoch: 15, mini-batch: 673] loss: 2.499\n",
      "[epoch: 16, mini-batch: 673] loss: 2.493\n",
      "[epoch: 17, mini-batch: 673] loss: 2.488\n",
      "[epoch: 18, mini-batch: 673] loss: 2.484\n",
      "[epoch: 19, mini-batch: 673] loss: 2.481\n",
      "[epoch: 20, mini-batch: 673] loss: 2.477\n",
      "[epoch: 21, mini-batch: 673] loss: 2.473\n",
      "[epoch: 22, mini-batch: 673] loss: 2.470\n",
      "[epoch: 23, mini-batch: 673] loss: 2.467\n",
      "[epoch: 24, mini-batch: 673] loss: 2.464\n",
      "[epoch: 25, mini-batch: 673] loss: 2.461\n",
      "[epoch: 26, mini-batch: 673] loss: 2.457\n",
      "[epoch: 27, mini-batch: 673] loss: 2.456\n",
      "[epoch: 28, mini-batch: 673] loss: 2.451\n",
      "[epoch: 29, mini-batch: 673] loss: 2.449\n",
      "[epoch: 30, mini-batch: 673] loss: 2.447\n",
      "[epoch: 31, mini-batch: 673] loss: 2.445\n",
      "[epoch: 32, mini-batch: 673] loss: 2.442\n",
      "[epoch: 33, mini-batch: 673] loss: 2.439\n",
      "[epoch: 34, mini-batch: 673] loss: 2.439\n",
      "[epoch: 35, mini-batch: 673] loss: 2.435\n",
      "[epoch: 36, mini-batch: 673] loss: 2.435\n",
      "[epoch: 37, mini-batch: 673] loss: 2.432\n",
      "[epoch: 38, mini-batch: 673] loss: 2.431\n",
      "[epoch: 39, mini-batch: 673] loss: 2.429\n",
      "[epoch: 40, mini-batch: 673] loss: 2.426\n",
      "[epoch: 41, mini-batch: 673] loss: 2.426\n",
      "[epoch: 42, mini-batch: 673] loss: 2.423\n",
      "[epoch: 43, mini-batch: 673] loss: 2.420\n",
      "[epoch: 44, mini-batch: 673] loss: 2.419\n",
      "[epoch: 45, mini-batch: 673] loss: 2.418\n",
      "[epoch: 46, mini-batch: 673] loss: 2.415\n",
      "[epoch: 47, mini-batch: 673] loss: 2.414\n",
      "[epoch: 48, mini-batch: 673] loss: 2.414\n",
      "[epoch: 49, mini-batch: 673] loss: 2.413\n",
      "[epoch: 50, mini-batch: 673] loss: 2.409\n",
      "[epoch: 51, mini-batch: 673] loss: 2.410\n",
      "[epoch: 52, mini-batch: 673] loss: 2.407\n",
      "[epoch: 53, mini-batch: 673] loss: 2.405\n",
      "[epoch: 54, mini-batch: 673] loss: 2.406\n",
      "[epoch: 55, mini-batch: 673] loss: 2.403\n",
      "[epoch: 56, mini-batch: 673] loss: 2.403\n",
      "[epoch: 57, mini-batch: 673] loss: 2.401\n",
      "[epoch: 58, mini-batch: 673] loss: 2.398\n",
      "[epoch: 59, mini-batch: 673] loss: 2.397\n",
      "[epoch: 60, mini-batch: 673] loss: 2.397\n",
      "[epoch: 61, mini-batch: 673] loss: 2.395\n",
      "[epoch: 62, mini-batch: 673] loss: 2.394\n",
      "[epoch: 63, mini-batch: 673] loss: 2.394\n",
      "[epoch: 64, mini-batch: 673] loss: 2.391\n",
      "[epoch: 65, mini-batch: 673] loss: 2.392\n",
      "[epoch: 66, mini-batch: 673] loss: 2.391\n",
      "[epoch: 67, mini-batch: 673] loss: 2.390\n",
      "[epoch: 68, mini-batch: 673] loss: 2.388\n",
      "[epoch: 69, mini-batch: 673] loss: 2.385\n",
      "[epoch: 70, mini-batch: 673] loss: 2.388\n",
      "[epoch: 71, mini-batch: 673] loss: 2.385\n",
      "[epoch: 72, mini-batch: 673] loss: 2.383\n",
      "[epoch: 73, mini-batch: 673] loss: 2.384\n",
      "[epoch: 74, mini-batch: 673] loss: 2.382\n",
      "[epoch: 75, mini-batch: 673] loss: 2.381\n",
      "[epoch: 76, mini-batch: 673] loss: 2.382\n",
      "[epoch: 77, mini-batch: 673] loss: 2.378\n",
      "[epoch: 78, mini-batch: 673] loss: 2.379\n",
      "[epoch: 79, mini-batch: 673] loss: 2.379\n",
      "[epoch: 80, mini-batch: 673] loss: 2.378\n",
      "[epoch: 81, mini-batch: 673] loss: 2.375\n",
      "[epoch: 82, mini-batch: 673] loss: 2.375\n",
      "[epoch: 83, mini-batch: 673] loss: 2.375\n",
      "[epoch: 84, mini-batch: 673] loss: 2.375\n",
      "[epoch: 85, mini-batch: 673] loss: 2.371\n",
      "[epoch: 86, mini-batch: 673] loss: 2.371\n",
      "[epoch: 87, mini-batch: 673] loss: 2.371\n",
      "[epoch: 88, mini-batch: 673] loss: 2.370\n",
      "[epoch: 89, mini-batch: 673] loss: 2.371\n",
      "[epoch: 90, mini-batch: 673] loss: 2.368\n",
      "[epoch: 91, mini-batch: 673] loss: 2.371\n",
      "[epoch: 92, mini-batch: 673] loss: 2.368\n",
      "[epoch: 93, mini-batch: 673] loss: 2.366\n",
      "[epoch: 94, mini-batch: 673] loss: 2.367\n",
      "[epoch: 95, mini-batch: 673] loss: 2.364\n",
      "[epoch: 96, mini-batch: 673] loss: 2.364\n",
      "[epoch: 97, mini-batch: 673] loss: 2.361\n",
      "[epoch: 98, mini-batch: 673] loss: 2.361\n",
      "[epoch: 99, mini-batch: 673] loss: 2.361\n",
      "[epoch: 100, mini-batch: 673] loss: 2.362\n",
      "[epoch: 101, mini-batch: 673] loss: 2.360\n",
      "[epoch: 102, mini-batch: 673] loss: 2.359\n",
      "[epoch: 103, mini-batch: 673] loss: 2.359\n",
      "[epoch: 104, mini-batch: 673] loss: 2.358\n",
      "[epoch: 105, mini-batch: 673] loss: 2.358\n",
      "[epoch: 106, mini-batch: 673] loss: 2.356\n",
      "[epoch: 107, mini-batch: 673] loss: 2.357\n",
      "[epoch: 108, mini-batch: 673] loss: 2.357\n",
      "[epoch: 109, mini-batch: 673] loss: 2.354\n",
      "[epoch: 110, mini-batch: 673] loss: 2.356\n",
      "[epoch: 111, mini-batch: 673] loss: 2.352\n",
      "[epoch: 112, mini-batch: 673] loss: 2.354\n",
      "[epoch: 113, mini-batch: 673] loss: 2.351\n",
      "[epoch: 114, mini-batch: 673] loss: 2.352\n",
      "[epoch: 115, mini-batch: 673] loss: 2.351\n",
      "[epoch: 116, mini-batch: 673] loss: 2.350\n",
      "[epoch: 117, mini-batch: 673] loss: 2.349\n",
      "[epoch: 118, mini-batch: 673] loss: 2.350\n",
      "[epoch: 119, mini-batch: 673] loss: 2.349\n",
      "[epoch: 120, mini-batch: 673] loss: 2.348\n",
      "[epoch: 121, mini-batch: 673] loss: 2.346\n",
      "[epoch: 122, mini-batch: 673] loss: 2.348\n",
      "[epoch: 123, mini-batch: 673] loss: 2.345\n",
      "[epoch: 124, mini-batch: 673] loss: 2.347\n",
      "[epoch: 125, mini-batch: 673] loss: 2.345\n",
      "[epoch: 126, mini-batch: 673] loss: 2.345\n",
      "[epoch: 127, mini-batch: 673] loss: 2.345\n",
      "[epoch: 128, mini-batch: 673] loss: 2.342\n",
      "[epoch: 129, mini-batch: 673] loss: 2.342\n",
      "[epoch: 130, mini-batch: 673] loss: 2.343\n",
      "[epoch: 131, mini-batch: 673] loss: 2.340\n",
      "[epoch: 132, mini-batch: 673] loss: 2.343\n",
      "[epoch: 133, mini-batch: 673] loss: 2.341\n",
      "[epoch: 134, mini-batch: 673] loss: 2.340\n",
      "[epoch: 135, mini-batch: 673] loss: 2.339\n",
      "[epoch: 136, mini-batch: 673] loss: 2.339\n",
      "[epoch: 137, mini-batch: 673] loss: 2.339\n",
      "[epoch: 138, mini-batch: 673] loss: 2.338\n",
      "[epoch: 139, mini-batch: 673] loss: 2.339\n",
      "[epoch: 140, mini-batch: 673] loss: 2.337\n",
      "[epoch: 141, mini-batch: 673] loss: 2.337\n",
      "[epoch: 142, mini-batch: 673] loss: 2.336\n",
      "[epoch: 143, mini-batch: 673] loss: 2.335\n",
      "[epoch: 144, mini-batch: 673] loss: 2.337\n",
      "[epoch: 145, mini-batch: 673] loss: 2.334\n",
      "[epoch: 146, mini-batch: 673] loss: 2.337\n",
      "[epoch: 147, mini-batch: 673] loss: 2.333\n",
      "[epoch: 148, mini-batch: 673] loss: 2.336\n",
      "[epoch: 149, mini-batch: 673] loss: 2.334\n",
      "[epoch: 150, mini-batch: 673] loss: 2.332\n",
      "[epoch: 151, mini-batch: 673] loss: 2.332\n",
      "[epoch: 152, mini-batch: 673] loss: 2.332\n",
      "[epoch: 153, mini-batch: 673] loss: 2.330\n",
      "[epoch: 154, mini-batch: 673] loss: 2.331\n",
      "[epoch: 155, mini-batch: 673] loss: 2.332\n",
      "[epoch: 156, mini-batch: 673] loss: 2.330\n",
      "[epoch: 157, mini-batch: 673] loss: 2.331\n",
      "[epoch: 158, mini-batch: 673] loss: 2.327\n",
      "[epoch: 159, mini-batch: 673] loss: 2.327\n",
      "[epoch: 160, mini-batch: 673] loss: 2.327\n",
      "[epoch: 161, mini-batch: 673] loss: 2.330\n",
      "[epoch: 162, mini-batch: 673] loss: 2.326\n",
      "[epoch: 163, mini-batch: 673] loss: 2.326\n",
      "[epoch: 164, mini-batch: 673] loss: 2.327\n",
      "[epoch: 165, mini-batch: 673] loss: 2.326\n",
      "[epoch: 166, mini-batch: 673] loss: 2.327\n",
      "[epoch: 167, mini-batch: 673] loss: 2.326\n",
      "[epoch: 168, mini-batch: 673] loss: 2.325\n",
      "[epoch: 169, mini-batch: 673] loss: 2.324\n",
      "[epoch: 170, mini-batch: 673] loss: 2.323\n",
      "[epoch: 171, mini-batch: 673] loss: 2.321\n",
      "[epoch: 172, mini-batch: 673] loss: 2.322\n",
      "[epoch: 173, mini-batch: 673] loss: 2.323\n",
      "[epoch: 174, mini-batch: 673] loss: 2.320\n",
      "[epoch: 175, mini-batch: 673] loss: 2.320\n",
      "[epoch: 176, mini-batch: 673] loss: 2.322\n",
      "[epoch: 177, mini-batch: 673] loss: 2.321\n",
      "[epoch: 178, mini-batch: 673] loss: 2.320\n",
      "[epoch: 179, mini-batch: 673] loss: 2.321\n",
      "[epoch: 180, mini-batch: 673] loss: 2.319\n",
      "[epoch: 181, mini-batch: 673] loss: 2.320\n",
      "[epoch: 182, mini-batch: 673] loss: 2.318\n",
      "[epoch: 183, mini-batch: 673] loss: 2.319\n",
      "[epoch: 184, mini-batch: 673] loss: 2.319\n",
      "[epoch: 185, mini-batch: 673] loss: 2.318\n",
      "[epoch: 186, mini-batch: 673] loss: 2.316\n",
      "[epoch: 187, mini-batch: 673] loss: 2.318\n",
      "[epoch: 188, mini-batch: 673] loss: 2.313\n",
      "[epoch: 189, mini-batch: 673] loss: 2.315\n",
      "[epoch: 190, mini-batch: 673] loss: 2.317\n",
      "[epoch: 191, mini-batch: 673] loss: 2.317\n",
      "[epoch: 192, mini-batch: 673] loss: 2.315\n",
      "[epoch: 193, mini-batch: 673] loss: 2.314\n",
      "[epoch: 194, mini-batch: 673] loss: 2.315\n",
      "[epoch: 195, mini-batch: 673] loss: 2.316\n",
      "[epoch: 196, mini-batch: 673] loss: 2.313\n",
      "[epoch: 197, mini-batch: 673] loss: 2.314\n",
      "[epoch: 198, mini-batch: 673] loss: 2.315\n"
     ]
    },
    {
     "name": "stdout",
     "output_type": "stream",
     "text": [
      "[epoch: 199, mini-batch: 673] loss: 2.313\n",
      "[epoch: 200, mini-batch: 673] loss: 2.314\n",
      "[epoch: 201, mini-batch: 673] loss: 2.312\n",
      "[epoch: 202, mini-batch: 673] loss: 2.313\n",
      "[epoch: 203, mini-batch: 673] loss: 2.311\n",
      "[epoch: 204, mini-batch: 673] loss: 2.312\n",
      "[epoch: 205, mini-batch: 673] loss: 2.308\n",
      "[epoch: 206, mini-batch: 673] loss: 2.310\n",
      "[epoch: 207, mini-batch: 673] loss: 2.311\n",
      "[epoch: 208, mini-batch: 673] loss: 2.311\n",
      "[epoch: 209, mini-batch: 673] loss: 2.310\n",
      "[epoch: 210, mini-batch: 673] loss: 2.307\n",
      "[epoch: 211, mini-batch: 673] loss: 2.309\n",
      "[epoch: 212, mini-batch: 673] loss: 2.310\n",
      "[epoch: 213, mini-batch: 673] loss: 2.309\n",
      "[epoch: 214, mini-batch: 673] loss: 2.308\n",
      "[epoch: 215, mini-batch: 673] loss: 2.308\n",
      "[epoch: 216, mini-batch: 673] loss: 2.308\n",
      "[epoch: 217, mini-batch: 673] loss: 2.307\n",
      "[epoch: 218, mini-batch: 673] loss: 2.309\n",
      "[epoch: 219, mini-batch: 673] loss: 2.308\n",
      "[epoch: 220, mini-batch: 673] loss: 2.306\n",
      "[epoch: 221, mini-batch: 673] loss: 2.306\n",
      "[epoch: 222, mini-batch: 673] loss: 2.306\n",
      "[epoch: 223, mini-batch: 673] loss: 2.305\n",
      "[epoch: 224, mini-batch: 673] loss: 2.305\n",
      "[epoch: 225, mini-batch: 673] loss: 2.304\n",
      "[epoch: 226, mini-batch: 673] loss: 2.305\n",
      "[epoch: 227, mini-batch: 673] loss: 2.305\n",
      "[epoch: 228, mini-batch: 673] loss: 2.304\n",
      "[epoch: 229, mini-batch: 673] loss: 2.303\n",
      "[epoch: 230, mini-batch: 673] loss: 2.304\n",
      "[epoch: 231, mini-batch: 673] loss: 2.303\n",
      "[epoch: 232, mini-batch: 673] loss: 2.302\n",
      "[epoch: 233, mini-batch: 673] loss: 2.301\n",
      "[epoch: 234, mini-batch: 673] loss: 2.303\n",
      "[epoch: 235, mini-batch: 673] loss: 2.304\n",
      "[epoch: 236, mini-batch: 673] loss: 2.302\n",
      "[epoch: 237, mini-batch: 673] loss: 2.302\n",
      "[epoch: 238, mini-batch: 673] loss: 2.301\n",
      "[epoch: 239, mini-batch: 673] loss: 2.301\n",
      "[epoch: 240, mini-batch: 673] loss: 2.300\n",
      "[epoch: 241, mini-batch: 673] loss: 2.301\n",
      "[epoch: 242, mini-batch: 673] loss: 2.301\n",
      "[epoch: 243, mini-batch: 673] loss: 2.297\n",
      "[epoch: 244, mini-batch: 673] loss: 2.299\n",
      "[epoch: 245, mini-batch: 673] loss: 2.299\n",
      "[epoch: 246, mini-batch: 673] loss: 2.299\n",
      "[epoch: 247, mini-batch: 673] loss: 2.298\n",
      "[epoch: 248, mini-batch: 673] loss: 2.298\n",
      "[epoch: 249, mini-batch: 673] loss: 2.298\n",
      "[epoch: 250, mini-batch: 673] loss: 2.297\n",
      "[epoch: 251, mini-batch: 673] loss: 2.298\n",
      "[epoch: 252, mini-batch: 673] loss: 2.296\n",
      "[epoch: 253, mini-batch: 673] loss: 2.297\n",
      "[epoch: 254, mini-batch: 673] loss: 2.297\n",
      "[epoch: 255, mini-batch: 673] loss: 2.296\n",
      "[epoch: 256, mini-batch: 673] loss: 2.295\n",
      "[epoch: 257, mini-batch: 673] loss: 2.297\n",
      "[epoch: 258, mini-batch: 673] loss: 2.296\n",
      "[epoch: 259, mini-batch: 673] loss: 2.297\n",
      "[epoch: 260, mini-batch: 673] loss: 2.292\n",
      "[epoch: 261, mini-batch: 673] loss: 2.295\n",
      "[epoch: 262, mini-batch: 673] loss: 2.294\n",
      "[epoch: 263, mini-batch: 673] loss: 2.294\n",
      "[epoch: 264, mini-batch: 673] loss: 2.295\n",
      "[epoch: 265, mini-batch: 673] loss: 2.294\n",
      "[epoch: 266, mini-batch: 673] loss: 2.292\n",
      "[epoch: 267, mini-batch: 673] loss: 2.292\n",
      "[epoch: 268, mini-batch: 673] loss: 2.294\n",
      "[epoch: 269, mini-batch: 673] loss: 2.293\n",
      "[epoch: 270, mini-batch: 673] loss: 2.293\n",
      "[epoch: 271, mini-batch: 673] loss: 2.293\n",
      "[epoch: 272, mini-batch: 673] loss: 2.293\n",
      "[epoch: 273, mini-batch: 673] loss: 2.293\n",
      "[epoch: 274, mini-batch: 673] loss: 2.292\n",
      "[epoch: 275, mini-batch: 673] loss: 2.290\n",
      "[epoch: 276, mini-batch: 673] loss: 2.292\n",
      "[epoch: 277, mini-batch: 673] loss: 2.291\n",
      "[epoch: 278, mini-batch: 673] loss: 2.289\n",
      "[epoch: 279, mini-batch: 673] loss: 2.290\n",
      "[epoch: 280, mini-batch: 673] loss: 2.290\n",
      "[epoch: 281, mini-batch: 673] loss: 2.291\n",
      "[epoch: 282, mini-batch: 673] loss: 2.289\n",
      "[epoch: 283, mini-batch: 673] loss: 2.291\n",
      "[epoch: 284, mini-batch: 673] loss: 2.290\n",
      "[epoch: 285, mini-batch: 673] loss: 2.289\n",
      "[epoch: 286, mini-batch: 673] loss: 2.288\n",
      "[epoch: 287, mini-batch: 673] loss: 2.288\n",
      "[epoch: 288, mini-batch: 673] loss: 2.288\n",
      "[epoch: 289, mini-batch: 673] loss: 2.288\n",
      "[epoch: 290, mini-batch: 673] loss: 2.290\n",
      "[epoch: 291, mini-batch: 673] loss: 2.288\n",
      "[epoch: 292, mini-batch: 673] loss: 2.289\n",
      "[epoch: 293, mini-batch: 673] loss: 2.287\n",
      "[epoch: 294, mini-batch: 673] loss: 2.287\n",
      "[epoch: 295, mini-batch: 673] loss: 2.287\n",
      "[epoch: 296, mini-batch: 673] loss: 2.288\n",
      "[epoch: 297, mini-batch: 673] loss: 2.286\n",
      "[epoch: 298, mini-batch: 673] loss: 2.286\n",
      "[epoch: 299, mini-batch: 673] loss: 2.286\n",
      "[epoch: 300, mini-batch: 673] loss: 2.285\n",
      "[epoch: 301, mini-batch: 673] loss: 2.285\n",
      "[epoch: 302, mini-batch: 673] loss: 2.287\n",
      "[epoch: 303, mini-batch: 673] loss: 2.284\n",
      "[epoch: 304, mini-batch: 673] loss: 2.283\n",
      "[epoch: 305, mini-batch: 673] loss: 2.286\n",
      "[epoch: 306, mini-batch: 673] loss: 2.285\n",
      "[epoch: 307, mini-batch: 673] loss: 2.283\n",
      "[epoch: 308, mini-batch: 673] loss: 2.282\n",
      "[epoch: 309, mini-batch: 673] loss: 2.285\n",
      "[epoch: 310, mini-batch: 673] loss: 2.285\n",
      "[epoch: 311, mini-batch: 673] loss: 2.287\n",
      "[epoch: 312, mini-batch: 673] loss: 2.284\n",
      "[epoch: 313, mini-batch: 673] loss: 2.284\n",
      "[epoch: 314, mini-batch: 673] loss: 2.282\n",
      "[epoch: 315, mini-batch: 673] loss: 2.285\n",
      "[epoch: 316, mini-batch: 673] loss: 2.283\n",
      "[epoch: 317, mini-batch: 673] loss: 2.281\n",
      "[epoch: 318, mini-batch: 673] loss: 2.281\n",
      "[epoch: 319, mini-batch: 673] loss: 2.282\n",
      "[epoch: 320, mini-batch: 673] loss: 2.282\n",
      "[epoch: 321, mini-batch: 673] loss: 2.282\n",
      "[epoch: 322, mini-batch: 673] loss: 2.281\n",
      "[epoch: 323, mini-batch: 673] loss: 2.280\n",
      "[epoch: 324, mini-batch: 673] loss: 2.282\n",
      "[epoch: 325, mini-batch: 673] loss: 2.282\n",
      "[epoch: 326, mini-batch: 673] loss: 2.282\n",
      "[epoch: 327, mini-batch: 673] loss: 2.280\n",
      "[epoch: 328, mini-batch: 673] loss: 2.279\n",
      "[epoch: 329, mini-batch: 673] loss: 2.279\n",
      "[epoch: 330, mini-batch: 673] loss: 2.280\n",
      "[epoch: 331, mini-batch: 673] loss: 2.284\n",
      "[epoch: 332, mini-batch: 673] loss: 2.280\n",
      "[epoch: 333, mini-batch: 673] loss: 2.279\n",
      "[epoch: 334, mini-batch: 673] loss: 2.280\n",
      "[epoch: 335, mini-batch: 673] loss: 2.278\n",
      "[epoch: 336, mini-batch: 673] loss: 2.279\n",
      "[epoch: 337, mini-batch: 673] loss: 2.277\n",
      "[epoch: 338, mini-batch: 673] loss: 2.276\n",
      "[epoch: 339, mini-batch: 673] loss: 2.278\n",
      "[epoch: 340, mini-batch: 673] loss: 2.278\n",
      "[epoch: 341, mini-batch: 673] loss: 2.278\n",
      "[epoch: 342, mini-batch: 673] loss: 2.279\n",
      "[epoch: 343, mini-batch: 673] loss: 2.278\n",
      "[epoch: 344, mini-batch: 673] loss: 2.276\n",
      "[epoch: 345, mini-batch: 673] loss: 2.278\n",
      "[epoch: 346, mini-batch: 673] loss: 2.277\n",
      "[epoch: 347, mini-batch: 673] loss: 2.277\n",
      "[epoch: 348, mini-batch: 673] loss: 2.277\n",
      "[epoch: 349, mini-batch: 673] loss: 2.279\n",
      "[epoch: 350, mini-batch: 673] loss: 2.275\n",
      "Finished Training :)\n",
      "Training time: 19576.756263017654 seconds\n"
     ]
    }
   ],
   "source": [
    "# Moving model to device (to cuda if available)\n",
    "net = net.to(device)\n",
    "net.train()\n",
    "\n",
    "criterion = nn.CrossEntropyLoss() # Defining the criterion\n",
    "\n",
    "#optimizer = optim.SGD(net.parameters(),momentum=0.9,lr=0.001) # Defining the optimizer\n",
    "optimizer = optim.Adam(net.parameters(),lr=0.003)\n",
    "\n",
    "start_time = time.time()\n",
    "\n",
    "for epoch in range(350): #Looping over the dataset three times\n",
    "\n",
    "    running_loss = 0.0\n",
    "    for i, data in enumerate(train_dataloader, 0):\n",
    "        \n",
    "        inputs, labels = data # The input data is a list [inputs, labels]\n",
    "\n",
    "        inputs = inputs.permute(0, 3, 1, 2) # permuting the input to match the order used by pytorch\n",
    "        \n",
    "        # Moving to device (to cuda if available)\n",
    "        inputs = inputs.to(device)\n",
    "        labels = labels.to(device)\n",
    "        \n",
    "        optimizer.zero_grad() # Setting the parameter gradients to zero\n",
    "\n",
    "        outputs = net(inputs) # Forward pass\n",
    "        loss = criterion(outputs,labels) # Applying the criterion\n",
    "        loss.backward() # Backward pass\n",
    "        optimizer.step() # Optimization step\n",
    "\n",
    "        running_loss += loss.item() # Updating the running loss\n",
    "        if i % len(train_dataloader) == len(train_dataloader)-1:  # Printing the running loss\n",
    "            print('[epoch: %d, mini-batch: %d] loss: %.3f' %\n",
    "                  (epoch + 1, i + 1, running_loss / len(train_dataloader)))\n",
    "            running_loss = 0.0\n",
    "\n",
    "print('Finished Training :)')\n",
    "print(\"Training time: %s seconds\" % (time.time() - start_time))"
   ]
  },
  {
   "cell_type": "markdown",
   "id": "1fec849e",
   "metadata": {},
   "source": [
    "#### Evaluating the model\n",
    "Public test set is used in order to test che model accuracy and other metrics"
   ]
  },
  {
   "cell_type": "code",
   "execution_count": 16,
   "id": "98a61518",
   "metadata": {},
   "outputs": [
    {
     "name": "stdout",
     "output_type": "stream",
     "text": [
      "Accuracy of the network on the 3589 test images (Public test-set): 66 %\n"
     ]
    },
    {
     "data": {
      "image/png": "[encoded data removed]",
      "text/plain": [
       "<Figure size 432x288 with 1 Axes>"
      ]
     },
     "metadata": {
      "needs_background": "light"
     },
     "output_type": "display_data"
    },
    {
     "data": {
      "image/png": "[encoded data removed]",
      "text/plain": [
       "<Figure size 432x288 with 1 Axes>"
      ]
     },
     "metadata": {
      "needs_background": "light"
     },
     "output_type": "display_data"
    },
    {
     "data": {
      "image/png": "[encoded data removed]",
      "text/plain": [
       "<Figure size 432x288 with 1 Axes>"
      ]
     },
     "metadata": {
      "needs_background": "light"
     },
     "output_type": "display_data"
    }
   ],
   "source": [
    "# Calculating the accuracy of the network on the whole dataset\n",
    "correct = 0\n",
    "total = 0\n",
    "i = 0\n",
    "\n",
    "# Setting network in evaluation/testing mode (for disabling dropout layers)\n",
    "net.eval()\n",
    "\n",
    "with torch.no_grad():\n",
    "    for data in test_dataloader:\n",
    "        \n",
    "        images, labels = data # Getting the test data\n",
    "\n",
    "        images = images.permute(0, 3, 1, 2)\n",
    "        # Moving to device (cuda if available)\n",
    "        images = images.to(device)\n",
    "        labels = labels.to(device)\n",
    "        outputs = net(images) # Getting the network output\n",
    "        _, predicted = torch.max(outputs.data, 1)\n",
    "        total += labels.size(0)\n",
    "        correct += (predicted == labels).sum().item()\n",
    "        \n",
    "accurcyMean=100 * correct / total\n",
    "              \n",
    "print('Accuracy of the network on the %d test images (Public test-set): %d %%' % (len(imgs_test), accurcyMean))\n",
    "\n",
    "# showing accumulated (convs) plots\n",
    "plot.show()"
   ]
  },
  {
   "cell_type": "code",
   "execution_count": 17,
   "id": "b1162745",
   "metadata": {},
   "outputs": [
    {
     "name": "stdout",
     "output_type": "stream",
     "text": [
      "Accuracy of Anger >:( (Class: 0): \t 76 %\n",
      "Accuracy of Disgust :S (Class: 1): \t  0 %\n",
      "Accuracy of Fear :\"( (Class: 2): \t 45 %\n",
      "Accuracy of Happiness :D (Class: 3): \t 97 %\n",
      "Accuracy of Sadness :( (Class: 4): \t 52 %\n",
      "Accuracy of Surprise :O (Class: 5): \t 94 %\n",
      "Accuracy of Neutral :| (Class: 6): \t 75 %\n"
     ]
    },
    {
     "data": {
      "image/png": "[encoded data removed]",
      "text/plain": [
       "<Figure size 432x288 with 1 Axes>"
      ]
     },
     "metadata": {
      "needs_background": "light"
     },
     "output_type": "display_data"
    },
    {
     "data": {
      "image/png": "[encoded data removed]",
      "text/plain": [
       "<Figure size 432x288 with 1 Axes>"
      ]
     },
     "metadata": {
      "needs_background": "light"
     },
     "output_type": "display_data"
    },
    {
     "data": {
      "image/png": "[encoded data removed]",
      "text/plain": [
       "<Figure size 432x288 with 1 Axes>"
      ]
     },
     "metadata": {
      "needs_background": "light"
     },
     "output_type": "display_data"
    }
   ],
   "source": [
    "classes=len(np.unique(y_test))\n",
    "\n",
    "#Calculating the accuracy of the network on each class of images\n",
    "class_correct = list(0. for i in range(classes))\n",
    "class_total = list(0. for i in range(classes))\n",
    "\n",
    "net.eval()\n",
    "\n",
    "with torch.no_grad():\n",
    "    for data in test_dataloader:\n",
    "        images, labels = data # Getting the test data\n",
    "\n",
    "        images=images.permute(0,3,1,2)\n",
    "\n",
    "        images=images.to(device)\n",
    "        labels=labels.to(device)\n",
    "        \n",
    "        outputs = net(images) # Getting the network output\n",
    "        _, predicted = torch.max(outputs, 1)\n",
    "        c = (predicted == labels).squeeze()\n",
    "        for i in range(5):\n",
    "            label = labels[i]\n",
    "            class_correct[label] += c[i].item()\n",
    "            class_total[label] += 1\n",
    "            if(class_total[label] == 0): print(\":C\")\n",
    "\n",
    "accuracy=list(0. for i in range(classes))\n",
    "\n",
    "for i in range(classes):\n",
    "    accuracy[i] = 100 * (class_correct[i] / (class_total[i]+1))\n",
    "\n",
    "for i in range(len(np.unique(y_test))):\n",
    "    print('Accuracy of %s (Class: %s): \\t %2d %%' % (emotions_labels_to_text[i],np.unique(y_test)[i], 100 * class_correct[i] / class_total[i]))"
   ]
  },
  {
   "cell_type": "code",
   "execution_count": 18,
   "id": "7e8da404",
   "metadata": {},
   "outputs": [
    {
     "name": "stdout",
     "output_type": "stream",
     "text": [
      "Precision of     0 : 55 %\n",
      "Precision of     1 :  0 %\n",
      "Precision of     2 : 59 %\n",
      "Precision of     3 : 83 %\n",
      "Precision of     4 : 55 %\n",
      "Precision of     5 : 81 %\n",
      "Precision of     6 : 58 %\n",
      "Recall of     0 : 61 %\n",
      "Recall of     1 :  0 %\n",
      "Recall of     2 : 45 %\n",
      "Recall of     3 : 85 %\n",
      "Recall of     4 : 60 %\n",
      "Recall of     5 : 79 %\n",
      "Recall of     6 : 63 %\n",
      "\n",
      "\n",
      "      recall  precision   accuracy\n",
      "0  61.324786  55.728155  74.074074\n",
      "1   0.000000   0.000000   0.000000\n",
      "2  45.472837  59.788360  43.478261\n",
      "3  85.714286  83.027027  94.736842\n",
      "4  60.397554  55.633803  50.000000\n",
      "5  79.807692  81.173594  90.000000\n",
      "6  63.651316  58.814590  71.428571\n",
      "Accuracy \t 66\n"
     ]
    },
    {
     "data": {
      "image/png": "[encoded data removed]",
      "text/plain": [
       "<Figure size 432x288 with 1 Axes>"
      ]
     },
     "metadata": {
      "needs_background": "light"
     },
     "output_type": "display_data"
    },
    {
     "data": {
      "image/png": "[encoded data removed]",
      "text/plain": [
       "<Figure size 432x288 with 1 Axes>"
      ]
     },
     "metadata": {
      "needs_background": "light"
     },
     "output_type": "display_data"
    },
    {
     "data": {
      "image/png": "[encoded data removed]",
      "text/plain": [
       "<Figure size 432x288 with 1 Axes>"
      ]
     },
     "metadata": {
      "needs_background": "light"
     },
     "output_type": "display_data"
    }
   ],
   "source": [
    "#Calculating the accuracy of the network on each class of images\n",
    "class_true_positive = list(0. for i in range(classes))\n",
    "class_false_positive = list(0. for i in range(classes))\n",
    "\n",
    "class_true_negative = list(0. for i in range(classes))\n",
    "class_false_negative = list(0. for i in range(classes))\n",
    "\n",
    "net.eval()\n",
    "\n",
    "for i in range(classes):\n",
    "    for data in test_dataloader:\n",
    "        images, labels = data # Getting the test data\n",
    "\n",
    "        images=images.permute(0,3,1,2)\n",
    "\n",
    "        images=images.to(device)\n",
    "        labels=labels.to(device)\n",
    "        \n",
    "        outputs = net(images) # Getting the network output\n",
    "        _, predicted = torch.max(outputs, 1)\n",
    "        for j in range(len(labels)):\n",
    "            if labels[j]==i:\n",
    "                if predicted[j]==i:\n",
    "                    class_true_positive[i]+=1\n",
    "                else:\n",
    "                    class_false_negative[i]+=1\n",
    "            else:\n",
    "                if predicted[j]==i:\n",
    "                    class_false_positive[i]+=1\n",
    "                    \n",
    "precision = list(0. for i in range(classes))\n",
    "recall = list(0. for i in range(classes))\n",
    "\n",
    "for i in range(classes):\n",
    "    precision[i]= 100 * class_true_positive[i] / (class_true_positive[i] + class_false_positive[i]+1)\n",
    "\n",
    "for i in range(len(np.unique(y_test))):\n",
    "    print('Precision of %5s : %2d %%' % (\n",
    "        np.unique(y_test)[i], precision[i]))\n",
    "\n",
    "for i in range(classes):\n",
    "    recall[i]=100 * class_true_positive[i] / (class_true_positive[i] + class_false_negative[i]+1)\n",
    "\n",
    "for i in range(len(np.unique(y_test))):\n",
    "    print('Recall of %5s : %2d %%' % (\n",
    "        np.unique(y_test)[i], recall[i]))\n",
    "\n",
    "print(\"\\n\")\n",
    "\n",
    "info={'recall':recall,'precision':precision,'accuracy':accuracy}\n",
    "infoDF=pd.DataFrame(data=info)\n",
    "print(infoDF)\n",
    "print(\"Accuracy \\t %d\"%(accurcyMean))"
   ]
  }
 ],
 "metadata": {
  "kernelspec": {
   "display_name": "Python 3 (ipykernel)",
   "language": "python",
   "name": "python3"
  },
  "language_info": {
   "codemirror_mode": {
    "name": "ipython",
    "version": 3
   },
   "file_extension": ".py",
   "mimetype": "text/x-python",
   "name": "python",
   "nbconvert_exporter": "python",
   "pygments_lexer": "ipython3",
   "version": "3.8.12"
  }
 },
 "nbformat": 4,
 "nbformat_minor": 5
}
